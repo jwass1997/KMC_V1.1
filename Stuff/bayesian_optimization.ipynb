{
 "cells": [
  {
   "cell_type": "code",
   "execution_count": 1,
   "id": "9bfced54",
   "metadata": {},
   "outputs": [],
   "source": [
    "import numpy as np\n",
    "import matplotlib.pyplot as plt\n",
    "from bayes_opt import BayesianOptimization"
   ]
  },
  {
   "cell_type": "code",
   "execution_count": null,
   "id": "c25f5ed6",
   "metadata": {},
   "outputs": [],
   "source": [
    "\n",
    "\n",
    "voltage_constraints = {\n",
    "    'v1': (-1.5, 1.5),\n",
    "    'v2': (-1.5, 1.5),\n",
    "    'v3': (-1.5, 1.5),\n",
    "    'v4': (-1.5, 1.5),\n",
    "    'v5': (-1.5, 1.5),\n",
    "    'v6': (-1.5, 1.5),\n",
    "    'v7': (-1.5, 1.5),\n",
    "}"
   ]
  },
  {
   "cell_type": "code",
   "execution_count": 4,
   "id": "44a647b8",
   "metadata": {},
   "outputs": [
    {
     "name": "stdout",
     "output_type": "stream",
     "text": [
      "|   iter    |  target   |     x     |     y     |\n",
      "-------------------------------------------------\n",
      "| \u001b[39m1        \u001b[39m | \u001b[39m0.8231   \u001b[39m | \u001b[39m-0.2489  \u001b[39m | \u001b[39m0.661    \u001b[39m |\n",
      "| \u001b[39m2        \u001b[39m | \u001b[39m-3.787   \u001b[39m | \u001b[39m-1.5     \u001b[39m | \u001b[39m-0.593   \u001b[39m |\n",
      "| \u001b[39m3        \u001b[39m | \u001b[39m-2.319   \u001b[39m | \u001b[39m-1.174   \u001b[39m | \u001b[39m-0.3934  \u001b[39m |\n",
      "| \u001b[39m4        \u001b[39m | \u001b[39m0.1359   \u001b[39m | \u001b[39m0.168    \u001b[39m | \u001b[39m0.08575  \u001b[39m |\n",
      "| \u001b[39m5        \u001b[39m | \u001b[39m0.5429   \u001b[39m | \u001b[39m0.5378   \u001b[39m | \u001b[39m1.41     \u001b[39m |\n",
      "=================================================\n"
     ]
    }
   ],
   "source": [
    "\n",
    "def black_box_function(x, y):\n",
    "    \"\"\"Function with unknown internals we wish to maximize.\n",
    "\n",
    "    This is just serving as an example, for all intents and\n",
    "    purposes think of the internals of this function, i.e.: the process\n",
    "    which generates its output values, as unknown.\n",
    "    \"\"\"\n",
    "    return -x ** 2 - (y - 1) ** 2 + 1\n",
    "\n",
    "pbounds = {'x': (-1.5, 1.5), 'y': (-1.5, 1.5)}\n",
    "\n",
    "optimizer = BayesianOptimization(\n",
    "    f=black_box_function,\n",
    "    pbounds=pbounds,\n",
    "    verbose=2,\n",
    "    random_state=1    \n",
    ")\n",
    "\n",
    "optimizer.maximize(\n",
    "    init_points=2,\n",
    "    n_iter=3\n",
    ")"
   ]
  }
 ],
 "metadata": {
  "kernelspec": {
   "display_name": "py311",
   "language": "python",
   "name": "python3"
  },
  "language_info": {
   "codemirror_mode": {
    "name": "ipython",
    "version": 3
   },
   "file_extension": ".py",
   "mimetype": "text/x-python",
   "name": "python",
   "nbconvert_exporter": "python",
   "pygments_lexer": "ipython3",
   "version": "3.11.11"
  }
 },
 "nbformat": 4,
 "nbformat_minor": 5
}
